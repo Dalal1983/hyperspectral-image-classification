{
 "cells": [
  {
   "cell_type": "markdown",
   "metadata": {},
   "source": [
    "# Hyperspectral image ground classification\n",
    "## Using Machine Learning"
   ]
  },
  {
   "cell_type": "code",
   "execution_count": 6,
   "metadata": {
    "ExecuteTime": {
     "end_time": "2018-12-15T17:21:05.703300Z",
     "start_time": "2018-12-15T17:21:05.689014Z"
    }
   },
   "outputs": [],
   "source": [
    "import utils as u\n",
    "import preprocessing as pp\n",
    "import train as tt\n",
    "import visualization as viz\n",
    "\n",
    "import matplotlib.pyplot as plt\n",
    "from matplotlib import patches\n",
    "import numpy as np\n",
    "\n",
    "from keras.utils import np_utils\n",
    "\n",
    "import spectral\n",
    "from spectral import spy_colors\n",
    "\n",
    "#tests\n",
    "from sklearn.cluster import KMeans"
   ]
  },
  {
   "cell_type": "markdown",
   "metadata": {},
   "source": [
    "### Globals and hyperparameters"
   ]
  },
  {
   "cell_type": "code",
   "execution_count": 7,
   "metadata": {
    "ExecuteTime": {
     "end_time": "2018-12-15T17:21:06.533693Z",
     "start_time": "2018-12-15T17:21:06.522709Z"
    }
   },
   "outputs": [],
   "source": [
    "numPCAcomponents = 50\n",
    "PATCH_SIZE = 5\n",
    "C1 = 3*numPCAcomponents\n",
    "\n",
    "batch_size = 128\n",
    "epochs = 10\n",
    "\n",
    "classes_authorized = [2,3,5,6,10,0,11,12,14,15]\n",
    "\n",
    "target_names = ['Maïs- Pas de Technique de Conservation des sols',\n",
    "                    'Maïs- Minimum Tillage',\n",
    "                    'Herbe-Pâturage',\n",
    "                    'Herbe-Arbre',\n",
    "                    'Soja-Pas de Technique de Conservation des sols', 'Soja-Minimum Tillage','Soja', 'Bois',\n",
    "                    'Bâtiment-Herbe-Arbre-drives',]\n",
    "\n",
    "label_dictionary = {\n",
    "    0: 'Rien',\n",
    "    1: 'Maïs- Pas de Technique de Conservation des sols', \n",
    "    2: 'Maïs- Minimum Tillage',\n",
    "    3: 'Herbe-Pâturage', \n",
    "    4: 'Herbe-Arbre', \n",
    "    5: 'Soja-Pas de Technique de Conservation des sols', \n",
    "    6: 'Soja-Minimum Tillage',\n",
    "    7: 'Soja', \n",
    "    8: 'Bois', \n",
    "    9: 'Bâtiment-Herbe-Arbre-drives',\n",
    "}"
   ]
  },
  {
   "cell_type": "markdown",
   "metadata": {},
   "source": [
    "### Preprocessing"
   ]
  },
  {
   "cell_type": "code",
   "execution_count": 8,
   "metadata": {
    "ExecuteTime": {
     "end_time": "2018-12-15T17:21:07.845956Z",
     "start_time": "2018-12-15T17:21:07.588232Z"
    }
   },
   "outputs": [],
   "source": [
    "X, train_data, test_data = pp.loadData()"
   ]
  },
  {
   "cell_type": "code",
   "execution_count": 9,
   "metadata": {
    "ExecuteTime": {
     "end_time": "2018-12-15T17:21:08.962516Z",
     "start_time": "2018-12-15T17:21:08.040477Z"
    }
   },
   "outputs": [
    {
     "name": "stdout",
     "output_type": "stream",
     "text": [
      "Before Shuffle: \n",
      "0 => 15155 / 17753\n",
      "1 => 648 / 780\n",
      "2 => 751 / 79\n",
      "3 => 465 / 18\n",
      "4 => 492 / 238\n",
      "5 => 231 / 741\n",
      "6 => 1646 / 809\n",
      "7 => 403 / 190\n",
      "8 => 1145 / 120\n",
      "9 => 89 / 297\n",
      "\n",
      "After Shuffle: \n",
      "0 => 16441 / 16467\n",
      "1 => 700 / 728\n",
      "2 => 435 / 395\n",
      "3 => 249 / 234\n",
      "4 => 382 / 348\n",
      "5 => 481 / 491\n",
      "6 => 1205 / 1250\n",
      "7 => 317 / 276\n",
      "8 => 635 / 630\n",
      "9 => 180 / 206\n",
      "\n"
     ]
    }
   ],
   "source": [
    "train_data = pp.deleteUselessClasses(train_data, classes_authorized)\n",
    "test_data = pp.deleteUselessClasses(test_data, classes_authorized)\n",
    "\n",
    "def pretty_print_count(train_data, test_data):\n",
    "    unique_train = np.unique(train_data, return_counts=True)\n",
    "    unique_test = np.unique(test_data, return_counts=True)\n",
    "    for i in range(0, unique_train[0].shape[0]):\n",
    "        print(unique_train[0][i], \"=>\", unique_train[1][i], \"/\", unique_test[1][i])\n",
    "    print()\n",
    "        \n",
    "print(\"Before Shuffle: \")\n",
    "pretty_print_count(train_data, test_data)\n",
    "train_data, test_data = pp.shuffleTrainTest(train_data, test_data)\n",
    "print(\"After Shuffle: \")\n",
    "pretty_print_count(train_data, test_data)"
   ]
  },
  {
   "cell_type": "code",
   "execution_count": 10,
   "metadata": {
    "ExecuteTime": {
     "end_time": "2018-12-15T17:21:09.778888Z",
     "start_time": "2018-12-15T17:21:08.983635Z"
    }
   },
   "outputs": [],
   "source": [
    "X, pca = pp.dimensionalityReduction(X, numComponents=numPCAcomponents, standardize=False)"
   ]
  },
  {
   "cell_type": "code",
   "execution_count": 11,
   "metadata": {
    "ExecuteTime": {
     "end_time": "2018-12-15T17:21:17.322889Z",
     "start_time": "2018-12-15T17:21:09.796146Z"
    }
   },
   "outputs": [
    {
     "name": "stdout",
     "output_type": "stream",
     "text": [
      "Progress:  |████████████████████████████████████████| 100.0%  Complete\n",
      "\n",
      "Creating train/test arrays and removing zero labels...\n",
      "Progress:  |████████████████████████████████████████| 100.0%  Complete\n",
      "Done.\n"
     ]
    }
   ],
   "source": [
    "X_train, X_test, y_train, y_test = pp.patch_1dim_split(X, train_data, test_data, PATCH_SIZE)"
   ]
  },
  {
   "cell_type": "code",
   "execution_count": 12,
   "metadata": {
    "ExecuteTime": {
     "end_time": "2018-12-15T17:21:22.244377Z",
     "start_time": "2018-12-15T17:21:17.379179Z"
    }
   },
   "outputs": [
    {
     "name": "stdout",
     "output_type": "stream",
     "text": [
      "Boosting Dataset...\n",
      "Progress:  |████████████████████████████████████████| 100.0%  Complete\n"
     ]
    }
   ],
   "source": [
    "X_train, y_train = pp.BoostDataset(X_train, y_train, n_samples=100)"
   ]
  },
  {
   "cell_type": "code",
   "execution_count": 13,
   "metadata": {
    "ExecuteTime": {
     "end_time": "2018-12-15T17:21:22.278875Z",
     "start_time": "2018-12-15T17:21:22.275093Z"
    }
   },
   "outputs": [],
   "source": [
    "y_train = np_utils.to_categorical(y_train, num_classes=9)\n",
    "y_test = np_utils.to_categorical(y_test, num_classes=9)\n",
    "\n",
    "### END PREPROCESSING ###"
   ]
  },
  {
   "cell_type": "code",
   "execution_count": 14,
   "metadata": {
    "ExecuteTime": {
     "end_time": "2018-12-15T17:21:22.317376Z",
     "start_time": "2018-12-15T17:21:22.310622Z"
    }
   },
   "outputs": [
    {
     "name": "stdout",
     "output_type": "stream",
     "text": [
      "[0 1 2 3 4 5 6 7 8 9] [16441   700   435   249   382   481  1205   317   635   180]\n",
      "[0 1 2 3 4 5 6 7 8 9] [16467   728   395   234   348   491  1250   276   630   206]\n"
     ]
    }
   ],
   "source": [
    "## Prints preprocessing\n",
    "\n",
    "t,v = np.unique(train_data, return_counts=True)\n",
    "print(t, v)\n",
    "t,v = np.unique(test_data, return_counts=True)\n",
    "print(t, v)\n"
   ]
  },
  {
   "cell_type": "markdown",
   "metadata": {},
   "source": [
    "### Train our model"
   ]
  },
  {
   "cell_type": "code",
   "execution_count": 15,
   "metadata": {
    "ExecuteTime": {
     "end_time": "2018-12-15T17:21:26.007329Z",
     "start_time": "2018-12-15T17:21:25.997421Z"
    }
   },
   "outputs": [
    {
     "name": "stdout",
     "output_type": "stream",
     "text": [
      "(5, 5, 50)\n"
     ]
    }
   ],
   "source": [
    "input_shape= X_train[0].shape\n",
    "print(input_shape)"
   ]
  },
  {
   "cell_type": "code",
   "execution_count": null,
   "metadata": {
    "ExecuteTime": {
     "end_time": "2018-12-15T17:21:29.798665Z",
     "start_time": "2018-12-15T17:21:28.332431Z"
    }
   },
   "outputs": [],
   "source": [
    "X2 = np.reshape(X, (X.shape[0]* X.shape[1], X.shape[2]))\n",
    "print(X2.shape)\n",
    "kmeans = KMeans(n_clusters=9, random_state=0).fit(X2)\n",
    "kmeans.labels_\n",
    "k = kmeans.predict(y_train)\n",
    "print(k.shape)"
   ]
  },
  {
   "cell_type": "code",
   "execution_count": 17,
   "metadata": {
    "ExecuteTime": {
     "end_time": "2018-12-15T17:22:08.264472Z",
     "start_time": "2018-12-15T17:21:44.685920Z"
    }
   },
   "outputs": [
    {
     "name": "stdout",
     "output_type": "stream",
     "text": [
      "Epoch 1/10\n",
      "4684/4684 [==============================] - 3s 669us/step - loss: 1.8379 - acc: 0.3747\n",
      "Epoch 2/10\n",
      "4684/4684 [==============================] - 2s 469us/step - loss: 1.1207 - acc: 0.6112\n",
      "Epoch 3/10\n",
      "4684/4684 [==============================] - 2s 459us/step - loss: 0.7497 - acc: 0.7444\n",
      "Epoch 4/10\n",
      "4684/4684 [==============================] - 2s 466us/step - loss: 0.5204 - acc: 0.8273\n",
      "Epoch 5/10\n",
      "4684/4684 [==============================] - 2s 477us/step - loss: 0.3728 - acc: 0.8817\n",
      "Epoch 6/10\n",
      "4684/4684 [==============================] - 2s 474us/step - loss: 0.2712 - acc: 0.9170\n",
      "Epoch 7/10\n",
      "4684/4684 [==============================] - 2s 495us/step - loss: 0.1923 - acc: 0.9462\n",
      "Epoch 8/10\n",
      "4684/4684 [==============================] - 2s 458us/step - loss: 0.1437 - acc: 0.9614\n",
      "Epoch 9/10\n",
      "4684/4684 [==============================] - 2s 467us/step - loss: 0.1067 - acc: 0.9718\n",
      "Epoch 10/10\n",
      "4684/4684 [==============================] - 2s 458us/step - loss: 0.0782 - acc: 0.9831\n"
     ]
    }
   ],
   "source": [
    "sequential_cnn_model = tt.sequential_cnn_model(input_shape, C1, numPCAcomponents)\n",
    "\n",
    "# On a 9 classes en réalité, donc une accuracy > 100/9 ~=11.11 est supérieure au hasard. \n",
    "sequential_cnn_model.fit(X_train, y_train,\n",
    "          batch_size=batch_size,\n",
    "          epochs=epochs,\n",
    "          verbose=1)\n",
    "\n",
    "model = sequential_cnn_model"
   ]
  },
  {
   "cell_type": "markdown",
   "metadata": {},
   "source": [
    "### Visualization"
   ]
  },
  {
   "cell_type": "code",
   "execution_count": 18,
   "metadata": {
    "ExecuteTime": {
     "end_time": "2018-12-15T17:22:08.307538Z",
     "start_time": "2018-12-15T17:22:08.300672Z"
    }
   },
   "outputs": [
    {
     "data": {
      "text/plain": [
       "(4684, 9)"
      ]
     },
     "execution_count": 18,
     "metadata": {},
     "output_type": "execute_result"
    }
   ],
   "source": [
    "y_train.shape"
   ]
  },
  {
   "cell_type": "code",
   "execution_count": 20,
   "metadata": {
    "ExecuteTime": {
     "end_time": "2018-12-15T17:22:11.301460Z",
     "start_time": "2018-12-15T17:22:09.884902Z"
    }
   },
   "outputs": [
    {
     "name": "stdout",
     "output_type": "stream",
     "text": [
      "4558/4558 [==============================] - 1s 170us/step\n"
     ]
    }
   ],
   "source": [
    "classification, confusion, Test_loss, Test_accuracy = viz.reports(model, X_test,y_test, target_names)"
   ]
  },
  {
   "cell_type": "code",
   "execution_count": 21,
   "metadata": {
    "ExecuteTime": {
     "end_time": "2018-12-15T17:22:11.349598Z",
     "start_time": "2018-12-15T17:22:11.344895Z"
    }
   },
   "outputs": [
    {
     "name": "stdout",
     "output_type": "stream",
     "text": [
      "                                                 precision    recall  f1-score   support\n",
      "\n",
      "Maïs- Pas de Technique de Conservation des sols       0.94      0.93      0.94       728\n",
      "                          Maïs- Minimum Tillage       0.96      0.96      0.96       395\n",
      "                                 Herbe-Pâturage       1.00      0.96      0.98       234\n",
      "                                    Herbe-Arbre       0.97      1.00      0.98       348\n",
      " Soja-Pas de Technique de Conservation des sols       0.94      0.93      0.93       491\n",
      "                           Soja-Minimum Tillage       0.95      0.96      0.95      1250\n",
      "                                           Soja       0.90      0.93      0.92       276\n",
      "                                           Bois       0.96      1.00      0.98       630\n",
      "                    Bâtiment-Herbe-Arbre-drives       0.98      0.85      0.91       206\n",
      "\n",
      "                                    avg / total       0.95      0.95      0.95      4558\n",
      "\n"
     ]
    }
   ],
   "source": [
    "print(classification)"
   ]
  },
  {
   "cell_type": "code",
   "execution_count": 22,
   "metadata": {
    "ExecuteTime": {
     "end_time": "2018-12-15T17:22:12.063126Z",
     "start_time": "2018-12-15T17:22:11.385872Z"
    }
   },
   "outputs": [
    {
     "name": "stdout",
     "output_type": "stream",
     "text": [
      "Normalized confusion matrix\n"
     ]
    },
    {
     "data": {
      "image/png": "[encoded data removed]",
      "text/plain": [
       "<Figure size 936x720 with 2 Axes>"
      ]
     },
     "metadata": {},
     "output_type": "display_data"
    }
   ],
   "source": [
    "plt.figure(figsize=(13, 10))\n",
    "viz.plot_confusion_matrix(confusion, classes=target_names,\n",
    "                      title='Confusion matrix, without normalization')"
   ]
  },
  {
   "cell_type": "code",
   "execution_count": 23,
   "metadata": {
    "ExecuteTime": {
     "end_time": "2018-12-15T17:22:12.664092Z",
     "start_time": "2018-12-15T17:22:12.098499Z"
    }
   },
   "outputs": [],
   "source": [
    "X_garbage, train_data, test_data = pp.loadData()\n",
    "#X = dimensionalityReduction(X, )\n",
    "y = np.add(train_data, test_data)\n",
    "y = pp.deleteUselessClasses(y, classes_authorized)"
   ]
  },
  {
   "cell_type": "code",
   "execution_count": 24,
   "metadata": {
    "ExecuteTime": {
     "end_time": "2018-12-15T17:22:38.600972Z",
     "start_time": "2018-12-15T17:22:12.695937Z"
    }
   },
   "outputs": [
    {
     "name": "stdout",
     "output_type": "stream",
     "text": [
      "Progress:  |████████████████████████████████████████| 100.0%  Complete\n"
     ]
    }
   ],
   "source": [
    "outputs = viz.createPredictedImage(X, y, model, 5, y.shape[0], 145)"
   ]
  },
  {
   "cell_type": "code",
   "execution_count": 25,
   "metadata": {
    "ExecuteTime": {
     "end_time": "2018-12-15T17:22:38.922504Z",
     "start_time": "2018-12-15T17:22:38.645977Z"
    }
   },
   "outputs": [
    {
     "name": "stdout",
     "output_type": "stream",
     "text": [
      "[0 1 2 3 4 5 6 7 8 9]\n"
     ]
    },
    {
     "data": {
      "image/png": "[encoded data removed]",
      "text/plain": [
       "<Figure size 360x360 with 1 Axes>"
      ]
     },
     "metadata": {},
     "output_type": "display_data"
    }
   ],
   "source": [
    "ground_truth = spectral.imshow(classes = y,figsize =(5,5))\n",
    "print(np.unique(y))\n",
    "\n",
    "labelPatches = [ patches.Patch(color=spy_colors[x]/255.,\n",
    "                 label=label_dictionary[x]) for x in np.unique(y) ]\n",
    "plt.legend(handles=labelPatches, ncol=2, fontsize='medium', \n",
    "           loc='upper center', bbox_to_anchor=(0.5, -0.05));"
   ]
  },
  {
   "cell_type": "code",
   "execution_count": null,
   "metadata": {},
   "outputs": [],
   "source": []
  }
 ],
 "metadata": {
  "kernelspec": {
   "display_name": "Python 3",
   "language": "python",
   "name": "python3"
  },
  "language_info": {
   "codemirror_mode": {
    "name": "ipython",
    "version": 3
   },
   "file_extension": ".py",
   "mimetype": "text/x-python",
   "name": "python",
   "nbconvert_exporter": "python",
   "pygments_lexer": "ipython3",
   "version": "3.5.5"
  },
  "varInspector": {
   "cols": {
    "lenName": 16,
    "lenType": 16,
    "lenVar": 40
   },
   "kernels_config": {
    "python": {
     "delete_cmd_postfix": "",
     "delete_cmd_prefix": "del ",
     "library": "var_list.py",
     "varRefreshCmd": "print(var_dic_list())"
    },
    "r": {
     "delete_cmd_postfix": ") ",
     "delete_cmd_prefix": "rm(",
     "library": "var_list.r",
     "varRefreshCmd": "cat(var_dic_list()) "
    }
   },
   "position": {
    "height": "512px",
    "left": "1389.98px",
    "right": "20px",
    "top": "124.983px",
    "width": "350px"
   },
   "types_to_exclude": [
    "module",
    "function",
    "builtin_function_or_method",
    "instance",
    "_Feature"
   ],
   "window_display": false
  }
 },
 "nbformat": 4,
 "nbformat_minor": 2
}
