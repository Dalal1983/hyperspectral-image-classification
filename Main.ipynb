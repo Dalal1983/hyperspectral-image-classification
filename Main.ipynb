{
 "cells": [
  {
   "cell_type": "markdown",
   "metadata": {},
   "source": [
    "# Hyperspectral image ground classification\n",
    "## Using Machine Learning"
   ]
  },
  {
   "cell_type": "code",
   "execution_count": 3,
   "metadata": {
    "ExecuteTime": {
     "end_time": "2018-12-17T20:18:13.984376Z",
     "start_time": "2018-12-17T20:17:55.501788Z"
    }
   },
   "outputs": [
    {
     "name": "stderr",
     "output_type": "stream",
     "text": [
      "/home/meryll/miniconda3/envs/eca/lib/python3.5/site-packages/h5py/__init__.py:36: FutureWarning: Conversion of the second argument of issubdtype from `float` to `np.floating` is deprecated. In future, it will be treated as `np.float64 == np.dtype(float).type`.\n",
      "  from ._conv import register_converters as _register_converters\n",
      "Using TensorFlow backend.\n"
     ]
    }
   ],
   "source": [
    "import utils as u\n",
    "import preprocessing as pp\n",
    "import train as tt\n",
    "import visualization as viz\n",
    "\n",
    "import matplotlib.pyplot as plt\n",
    "from matplotlib import patches\n",
    "import numpy as np\n",
    "\n",
    "import keras\n",
    "from keras.layers import Conv2D, MaxPooling2D, AveragePooling2D, Dropout, Activation, Average, Dense, Flatten\n",
    "from keras.layers.convolutional import AveragePooling3D, Conv3D\n",
    "from keras.models import Model\n",
    "from keras.optimizers import SGD\n",
    "from keras.engine.input_layer import Input\n",
    "from keras.models import Sequential, load_model\n",
    "from keras.utils import np_utils\n",
    "from keras.wrappers.scikit_learn import KerasClassifier\n",
    "from keras.layers.normalization import BatchNormalization\n",
    "from keras.layers.advanced_activations import PReLU, LeakyReLU, ELU, ThresholdedReLU\n",
    "from keras import regularizers\n",
    "from keras.regularizers import l2\n",
    "from IPython.display import SVG\n",
    "from IPython.display import Image\n",
    "\n",
    "from keras.utils.vis_utils import model_to_dot\n",
    "\n",
    "from keras import backend as K\n",
    "K.set_image_dim_ordering('th')\n",
    "K.set_image_data_format('channels_last')\n",
    "from keras.utils import np_utils\n",
    "\n",
    "import spectral\n",
    "from spectral import spy_colors\n",
    "\n",
    "#tests\n",
    "from sklearn.naive_bayes import MultinomialNB\n",
    "from sklearn.neighbors import KNeighborsClassifier\n",
    "from sklearn.svm import SVC\n",
    "from sklearn.ensemble import RandomForestClassifier, AdaBoostClassifier\n",
    "from sklearn.tree import DecisionTreeClassifier\n",
    "from sklearn.metrics import classification_report, f1_score"
   ]
  },
  {
   "cell_type": "markdown",
   "metadata": {},
   "source": [
    "### Globals and hyperparameters"
   ]
  },
  {
   "cell_type": "code",
   "execution_count": 1,
   "metadata": {
    "ExecuteTime": {
     "end_time": "2018-12-17T20:17:47.115617Z",
     "start_time": "2018-12-17T20:17:47.109182Z"
    },
    "init_cell": true
   },
   "outputs": [],
   "source": [
    "numPCAcomponents = 100\n",
    "PATCH_SIZE = 5\n",
    "C1 = 3*numPCAcomponents\n",
    "\n",
    "batch_size = 128\n",
    "epochs = 10\n",
    "\n",
    "classes_authorized = [2,3,5,6,10,0,11,12,14,15]\n",
    "num_classes = 9\n",
    "\n",
    "target_names = ['Maïs- Pas de Technique de Conservation des sols',\n",
    "                    'Maïs- Minimum Tillage',\n",
    "                    'Herbe-Pâturage',\n",
    "                    'Herbe-Arbre',\n",
    "                    'Soja-Pas de Technique de Conservation des sols', 'Soja-Minimum Tillage','Soja', 'Bois',\n",
    "                    'Bâtiment-Herbe-Arbre-drives',]\n",
    "\n",
    "label_dictionary = {\n",
    "    0: 'Rien',\n",
    "    1: 'Maïs- Pas de Technique de Conservation des sols', \n",
    "    2: 'Maïs- Minimum Tillage',\n",
    "    3: 'Herbe-Pâturage', \n",
    "    4: 'Herbe-Arbre', \n",
    "    5: 'Soja-Pas de Technique de Conservation des sols', \n",
    "    6: 'Soja-Minimum Tillage',\n",
    "    7: 'Soja', \n",
    "    8: 'Bois', \n",
    "    9: 'Bâtiment-Herbe-Arbre-drives',\n",
    "}"
   ]
  },
  {
   "cell_type": "markdown",
   "metadata": {},
   "source": [
    "### Preprocessing"
   ]
  },
  {
   "cell_type": "code",
   "execution_count": 2,
   "metadata": {
    "ExecuteTime": {
     "end_time": "2018-12-17T20:17:47.318549Z",
     "start_time": "2018-12-17T20:17:47.118555Z"
    },
    "init_cell": true
   },
   "outputs": [
    {
     "ename": "NameError",
     "evalue": "name 'pp' is not defined",
     "output_type": "error",
     "traceback": [
      "\u001b[0;31m---------------------------------------------------------------------------\u001b[0m",
      "\u001b[0;31mNameError\u001b[0m                                 Traceback (most recent call last)",
      "\u001b[0;32m<ipython-input-2-e001f35c4ab2>\u001b[0m in \u001b[0;36m<module>\u001b[0;34m()\u001b[0m\n\u001b[0;32m----> 1\u001b[0;31m \u001b[0mX\u001b[0m\u001b[0;34m,\u001b[0m \u001b[0mtrain_data\u001b[0m\u001b[0;34m,\u001b[0m \u001b[0mtest_data\u001b[0m \u001b[0;34m=\u001b[0m \u001b[0mpp\u001b[0m\u001b[0;34m.\u001b[0m\u001b[0mloadData\u001b[0m\u001b[0;34m(\u001b[0m\u001b[0;34m)\u001b[0m\u001b[0;34m\u001b[0m\u001b[0m\n\u001b[0m",
      "\u001b[0;31mNameError\u001b[0m: name 'pp' is not defined"
     ]
    }
   ],
   "source": [
    "X, train_data, test_data = pp.loadData()"
   ]
  },
  {
   "cell_type": "code",
   "execution_count": null,
   "metadata": {
    "ExecuteTime": {
     "end_time": "2018-12-17T20:17:47.319498Z",
     "start_time": "2018-12-17T20:17:47.110Z"
    },
    "init_cell": true
   },
   "outputs": [],
   "source": [
    "train_data = pp.deleteUselessClasses(train_data, classes_authorized)\n",
    "test_data = pp.deleteUselessClasses(test_data, classes_authorized)\n",
    "\n",
    "def pretty_print_count(train_data, test_data):\n",
    "    unique_train = np.unique(train_data, return_counts=True)\n",
    "    unique_test = np.unique(test_data, return_counts=True)\n",
    "    for i in range(0, unique_train[0].shape[0]):\n",
    "        print(unique_train[0][i], \"=>\", unique_train[1][i], \"/\", unique_test[1][i])\n",
    "    print()\n",
    "        \n",
    "print(\"Before Shuffle: \")\n",
    "pretty_print_count(train_data, test_data)\n",
    "train_data, test_data = pp.shuffleTrainTest(train_data, test_data)\n",
    "print(\"After Shuffle: \")\n",
    "pretty_print_count(train_data, test_data)"
   ]
  },
  {
   "cell_type": "code",
   "execution_count": null,
   "metadata": {
    "ExecuteTime": {
     "end_time": "2018-12-17T20:17:47.320506Z",
     "start_time": "2018-12-17T20:17:47.112Z"
    },
    "init_cell": true
   },
   "outputs": [],
   "source": [
    "# APPLIES PCA\n",
    "X, pca = pp.dimensionalityReduction(X, numComponents=numPCAcomponents, standardize=False)"
   ]
  },
  {
   "cell_type": "code",
   "execution_count": null,
   "metadata": {
    "ExecuteTime": {
     "end_time": "2018-12-17T20:17:47.321594Z",
     "start_time": "2018-12-17T20:17:47.113Z"
    },
    "init_cell": true
   },
   "outputs": [],
   "source": [
    "# CREATE PATCHES, DELETE 0 VALUES\n",
    "X_train, X_test, y_train, y_test = pp.patch_1dim_split(X, train_data, test_data, PATCH_SIZE)"
   ]
  },
  {
   "cell_type": "code",
   "execution_count": 22,
   "metadata": {
    "ExecuteTime": {
     "end_time": "2018-12-17T16:19:53.674415Z",
     "start_time": "2018-12-17T16:19:48.930883Z"
    },
    "deletable": false,
    "editable": false,
    "run_control": {
     "frozen": true
    }
   },
   "outputs": [
    {
     "name": "stdout",
     "output_type": "stream",
     "text": [
      "Boosting Dataset...\n",
      "Progress:  |████████████████████████████████████████| 100.0%  Complete\n"
     ]
    }
   ],
   "source": [
    "X_train, y_train = pp.BoostDataset(X_train, y_train, n_samples=100)"
   ]
  },
  {
   "cell_type": "code",
   "execution_count": null,
   "metadata": {
    "ExecuteTime": {
     "end_time": "2018-12-17T20:17:47.322738Z",
     "start_time": "2018-12-17T20:17:47.115Z"
    },
    "init_cell": true
   },
   "outputs": [],
   "source": [
    "y_train = np_utils.to_categorical(y_train, num_classes=9)\n",
    "y_test = np_utils.to_categorical(y_test, num_classes=9)\n",
    "\n",
    "### END PREPROCESSING ###"
   ]
  },
  {
   "cell_type": "code",
   "execution_count": 8,
   "metadata": {
    "ExecuteTime": {
     "end_time": "2018-12-17T16:24:17.869360Z",
     "start_time": "2018-12-17T16:24:17.863263Z"
    },
    "deletable": false,
    "editable": false,
    "run_control": {
     "frozen": true
    }
   },
   "outputs": [
    {
     "name": "stdout",
     "output_type": "stream",
     "text": [
      "[0 1 2 3 4 5 6 7 8 9] [16441   700   435   249   382   481  1205   317   635   180]\n",
      "[0 1 2 3 4 5 6 7 8 9] [16467   728   395   234   348   491  1250   276   630   206]\n"
     ]
    }
   ],
   "source": [
    "## Prints preprocessing\n",
    "\n",
    "t,v = np.unique(train_data, return_counts=True)\n",
    "print(t, v)\n",
    "t,v = np.unique(test_data, return_counts=True)\n",
    "print(t, v)\n"
   ]
  },
  {
   "cell_type": "markdown",
   "metadata": {},
   "source": [
    "### Train our model"
   ]
  },
  {
   "cell_type": "code",
   "execution_count": null,
   "metadata": {
    "ExecuteTime": {
     "end_time": "2018-12-17T20:17:47.324573Z",
     "start_time": "2018-12-17T20:17:47.116Z"
    },
    "init_cell": true
   },
   "outputs": [],
   "source": [
    "input_shape= X_train[0].shape\n",
    "print(input_shape)"
   ]
  },
  {
   "cell_type": "code",
   "execution_count": null,
   "metadata": {
    "ExecuteTime": {
     "end_time": "2018-12-17T20:17:47.325775Z",
     "start_time": "2018-12-17T20:17:47.118Z"
    },
    "init_cell": true
   },
   "outputs": [],
   "source": [
    "model = Sequential()\n",
    "    \n",
    "model.add(Conv2D(C1, (2,2), activation='relu', input_shape=input_shape))\n",
    "model.add(Conv2D(3*C1, (3,3), activation='relu'))\n",
    "model.add(Dropout(0.25))\n",
    "\n",
    "model.add(AveragePooling2D(pool_size=(1, 1), strides=(1, 1)))\n",
    "model.add(Flatten())\n",
    "model.add(Dense(30*numPCAcomponents, activation='relu'))\n",
    "model.add(Dropout(0.25))\n",
    "model.add(Dense(num_classes, activation='softmax'))\n",
    "\n",
    "sgd = SGD(lr=0.001, decay=1e-6, momentum=0.9, nesterov=True)\n",
    "model.compile(loss='categorical_crossentropy', optimizer=keras.optimizers.Adam(lr=0.0001), metrics=['accuracy'])\n",
    "\n",
    "model.summary()\n",
    "#Image(model_to_dot(model, show_shapes=True, show_layer_names=True).create(prog='dot', format='png'))\n",
    "\n",
    "\n",
    "# On a 9 classes en réalité, donc une accuracy > 100/9 ~=11.11 est supérieure au hasard. \n",
    "model.fit(X_train, y_train,\n",
    "          batch_size=batch_size,\n",
    "          epochs=epochs,\n",
    "          verbose=1)"
   ]
  },
  {
   "cell_type": "markdown",
   "metadata": {},
   "source": [
    "### Visualization"
   ]
  },
  {
   "cell_type": "code",
   "execution_count": null,
   "metadata": {
    "ExecuteTime": {
     "end_time": "2018-12-17T20:17:47.326574Z",
     "start_time": "2018-12-17T20:17:47.120Z"
    },
    "init_cell": true
   },
   "outputs": [],
   "source": [
    "classification, confusion, Test_loss, Test_accuracy = viz.reports(model, X_test,y_test, target_names)\n",
    "print(classification)"
   ]
  },
  {
   "cell_type": "code",
   "execution_count": 200,
   "metadata": {
    "ExecuteTime": {
     "end_time": "2018-12-17T17:24:22.693356Z",
     "start_time": "2018-12-17T17:24:22.072583Z"
    }
   },
   "outputs": [
    {
     "name": "stdout",
     "output_type": "stream",
     "text": [
      "Normalized confusion matrix\n"
     ]
    },
    {
     "data": {
      "image/png": "[encoded data removed]",
      "text/plain": [
       "<Figure size 936x720 with 2 Axes>"
      ]
     },
     "metadata": {},
     "output_type": "display_data"
    }
   ],
   "source": [
    "plt.figure(figsize=(13, 10))\n",
    "viz.plot_confusion_matrix(confusion, classes=target_names,\n",
    "                      title='Confusion matrix, without normalization')"
   ]
  },
  {
   "cell_type": "code",
   "execution_count": 201,
   "metadata": {
    "ExecuteTime": {
     "end_time": "2018-12-17T17:25:22.070153Z",
     "start_time": "2018-12-17T17:25:21.578972Z"
    }
   },
   "outputs": [],
   "source": [
    "X_garbage, train_data, test_data = pp.loadData()\n",
    "#X = dimensionalityReduction(X, )\n",
    "y = np.add(train_data, test_data)\n",
    "y = pp.deleteUselessClasses(y, classes_authorized)"
   ]
  },
  {
   "cell_type": "code",
   "execution_count": 202,
   "metadata": {
    "ExecuteTime": {
     "end_time": "2018-12-17T17:27:20.491600Z",
     "start_time": "2018-12-17T17:25:22.837263Z"
    }
   },
   "outputs": [
    {
     "name": "stdout",
     "output_type": "stream",
     "text": [
      "Progress:  |████████████████████████████████████████| 100.0%  Complete\n"
     ]
    }
   ],
   "source": [
    "outputs = viz.createPredictedImage(X, y, model, 5, y.shape[0], y.shape[1])"
   ]
  },
  {
   "cell_type": "code",
   "execution_count": 204,
   "metadata": {
    "ExecuteTime": {
     "end_time": "2018-12-17T17:29:59.608938Z",
     "start_time": "2018-12-17T17:29:59.373462Z"
    }
   },
   "outputs": [
    {
     "name": "stdout",
     "output_type": "stream",
     "text": [
      "PREDICTED IMAGE:\n"
     ]
    },
    {
     "data": {
      "image/png": "[encoded data removed]",
      "text/plain": [
       "<Figure size 360x360 with 1 Axes>"
      ]
     },
     "metadata": {},
     "output_type": "display_data"
    }
   ],
   "source": [
    "print(\"PREDICTED IMAGE:\")\n",
    "predict_image = spectral.imshow(classes = outputs.astype(int),figsize =(5,5))\n",
    "labelPatches = [ patches.Patch(color=spy_colors[x]/255.,\n",
    "                 label=label_dictionary[x]) for x in np.unique(y) ]\n",
    "plt.legend(handles=labelPatches, ncol=2, fontsize='medium', \n",
    "           loc='upper center', bbox_to_anchor=(0.5, -0.05));"
   ]
  },
  {
   "cell_type": "code",
   "execution_count": 27,
   "metadata": {
    "ExecuteTime": {
     "end_time": "2018-12-17T15:20:11.362644Z",
     "start_time": "2018-12-17T15:20:11.130123Z"
    }
   },
   "outputs": [
    {
     "name": "stdout",
     "output_type": "stream",
     "text": [
      "IDEAL IMAGE: \n"
     ]
    },
    {
     "data": {
      "image/png": "[encoded data removed]",
      "text/plain": [
       "<Figure size 360x360 with 1 Axes>"
      ]
     },
     "metadata": {},
     "output_type": "display_data"
    }
   ],
   "source": [
    "ground_truth = spectral.imshow(classes = y,figsize =(5,5))\n",
    "print(\"IDEAL IMAGE: \")\n",
    "\n",
    "labelPatches = [ patches.Patch(color=spy_colors[x]/255.,\n",
    "                 label=label_dictionary[x]) for x in np.unique(y) ]\n",
    "plt.legend(handles=labelPatches, ncol=2, fontsize='medium', \n",
    "           loc='upper center', bbox_to_anchor=(0.5, -0.05));"
   ]
  },
  {
   "cell_type": "markdown",
   "metadata": {},
   "source": [
    "## Machine Learning algorithms\n",
    "\n",
    "### Not our best results but some are good"
   ]
  },
  {
   "cell_type": "code",
   "execution_count": 42,
   "metadata": {
    "ExecuteTime": {
     "end_time": "2018-12-17T15:51:58.530140Z",
     "start_time": "2018-12-17T15:51:58.457544Z"
    }
   },
   "outputs": [],
   "source": [
    "X, train_data, test_data = pp.loadData()"
   ]
  },
  {
   "cell_type": "code",
   "execution_count": 43,
   "metadata": {
    "ExecuteTime": {
     "end_time": "2018-12-17T15:51:59.617050Z",
     "start_time": "2018-12-17T15:51:58.645612Z"
    }
   },
   "outputs": [
    {
     "name": "stdout",
     "output_type": "stream",
     "text": [
      "Before Shuffle: \n",
      "0 => 15155 / 17753\n",
      "1 => 648 / 780\n",
      "2 => 751 / 79\n",
      "3 => 465 / 18\n",
      "4 => 492 / 238\n",
      "5 => 231 / 741\n",
      "6 => 1646 / 809\n",
      "7 => 403 / 190\n",
      "8 => 1145 / 120\n",
      "9 => 89 / 297\n",
      "\n",
      "After Shuffle: \n",
      "0 => 16441 / 16467\n",
      "1 => 700 / 728\n",
      "2 => 435 / 395\n",
      "3 => 249 / 234\n",
      "4 => 382 / 348\n",
      "5 => 481 / 491\n",
      "6 => 1205 / 1250\n",
      "7 => 317 / 276\n",
      "8 => 635 / 630\n",
      "9 => 180 / 206\n",
      "\n"
     ]
    }
   ],
   "source": [
    "train_data = pp.deleteUselessClasses(train_data, classes_authorized)\n",
    "test_data = pp.deleteUselessClasses(test_data, classes_authorized)\n",
    "\n",
    "def pretty_print_count(train_data, test_data):\n",
    "    unique_train = np.unique(train_data, return_counts=True)\n",
    "    unique_test = np.unique(test_data, return_counts=True)\n",
    "    for i in range(0, unique_train[0].shape[0]):\n",
    "        print(unique_train[0][i], \"=>\", unique_train[1][i], \"/\", unique_test[1][i])\n",
    "    print()\n",
    "        \n",
    "print(\"Before Shuffle: \")\n",
    "pretty_print_count(train_data, test_data)\n",
    "train_data, test_data = pp.shuffleTrainTest(train_data, test_data)\n",
    "print(\"After Shuffle: \")\n",
    "pretty_print_count(train_data, test_data)"
   ]
  },
  {
   "cell_type": "code",
   "execution_count": 39,
   "metadata": {
    "ExecuteTime": {
     "end_time": "2018-12-17T15:51:31.497631Z",
     "start_time": "2018-12-17T15:51:30.953615Z"
    }
   },
   "outputs": [],
   "source": [
    "X, pca = pp.dimensionalityReduction(X, numComponents=numPCAcomponents, standardize=False)"
   ]
  },
  {
   "cell_type": "code",
   "execution_count": 44,
   "metadata": {
    "ExecuteTime": {
     "end_time": "2018-12-17T15:52:02.697129Z",
     "start_time": "2018-12-17T15:52:02.680941Z"
    }
   },
   "outputs": [],
   "source": [
    "X_train, X_test, y_train, y_test = pp.split(X, train_data, test_data)"
   ]
  },
  {
   "cell_type": "code",
   "execution_count": 12,
   "metadata": {
    "ExecuteTime": {
     "end_time": "2018-12-17T15:41:32.275411Z",
     "start_time": "2018-12-17T15:41:28.497085Z"
    }
   },
   "outputs": [
    {
     "name": "stdout",
     "output_type": "stream",
     "text": [
      "Model f1_score on train data/labels: 0.7160554968694586 \n",
      "\n",
      "Model score on test data/labels:\n",
      "                                                 precision    recall  f1-score   support\n",
      "\n",
      "Maïs- Pas de Technique de Conservation des sols       0.59      0.59      0.59       728\n",
      "                          Maïs- Minimum Tillage       0.57      0.42      0.48       395\n",
      "                                 Herbe-Pâturage       0.81      0.73      0.76       234\n",
      "                                    Herbe-Arbre       0.76      0.95      0.84       348\n",
      " Soja-Pas de Technique de Conservation des sols       0.55      0.51      0.53       491\n",
      "                           Soja-Minimum Tillage       0.62      0.80      0.70      1250\n",
      "                                           Soja       0.60      0.29      0.40       276\n",
      "                                           Bois       0.87      0.90      0.88       630\n",
      "                    Bâtiment-Herbe-Arbre-drives       0.74      0.21      0.33       206\n",
      "\n",
      "                                    avg / total       0.66      0.66      0.65      4558\n",
      "\n"
     ]
    }
   ],
   "source": [
    "neigh = KNeighborsClassifier(n_neighbors=10)\n",
    "tt.train_test_model(neigh, X_train, y_train, X_test, y_test, target_names)"
   ]
  },
  {
   "cell_type": "code",
   "execution_count": 14,
   "metadata": {
    "ExecuteTime": {
     "end_time": "2018-12-17T15:41:48.295582Z",
     "start_time": "2018-12-17T15:41:47.647207Z"
    }
   },
   "outputs": [
    {
     "name": "stdout",
     "output_type": "stream",
     "text": [
      "Model f1_score on train data/labels: 0.7091772384250378 \n",
      "\n",
      "Model score on test data/labels:\n",
      "                                                 precision    recall  f1-score   support\n",
      "\n",
      "Maïs- Pas de Technique de Conservation des sols       0.61      0.54      0.57       728\n",
      "                          Maïs- Minimum Tillage       0.54      0.47      0.50       395\n",
      "                                 Herbe-Pâturage       0.75      0.77      0.76       234\n",
      "                                    Herbe-Arbre       0.85      0.90      0.88       348\n",
      " Soja-Pas de Technique de Conservation des sols       0.58      0.62      0.60       491\n",
      "                           Soja-Minimum Tillage       0.64      0.75      0.69      1250\n",
      "                                           Soja       0.68      0.34      0.45       276\n",
      "                                           Bois       0.89      0.91      0.90       630\n",
      "                    Bâtiment-Herbe-Arbre-drives       0.54      0.47      0.50       206\n",
      "\n",
      "                                    avg / total       0.67      0.68      0.67      4558\n",
      "\n"
     ]
    }
   ],
   "source": [
    "dtree = DecisionTreeClassifier(max_depth=10, criterion=\"entropy\", max_leaf_nodes=50)\n",
    "tt.train_test_model(dtree, X_train, y_train, X_test, y_test, target_names)"
   ]
  },
  {
   "cell_type": "code",
   "execution_count": null,
   "metadata": {
    "ExecuteTime": {
     "start_time": "2018-12-17T15:52:06.324Z"
    }
   },
   "outputs": [],
   "source": [
    "svc = SVC(C=9, decision_function_shape=\"ovo\")\n",
    "tt.train_test_model(svc, X_train, y_train, X_test, y_test, target_names)"
   ]
  },
  {
   "cell_type": "code",
   "execution_count": null,
   "metadata": {
    "ExecuteTime": {
     "start_time": "2018-12-17T15:52:12.339Z"
    }
   },
   "outputs": [],
   "source": [
    "X_train2 = (X_train - np.min(X_train))\n",
    "X_test2 = (X_test - np.min(X_test))\n",
    "multi = MultinomialNB(alpha=0.001)\n",
    "tt.train_test_model(multi, X_train2, y_train, X_test2, y_test, target_names)"
   ]
  },
  {
   "cell_type": "code",
   "execution_count": null,
   "metadata": {},
   "outputs": [],
   "source": []
  }
 ],
 "metadata": {
  "celltoolbar": "Initialization Cell",
  "kernelspec": {
   "display_name": "Python 3",
   "language": "python",
   "name": "python3"
  },
  "language_info": {
   "codemirror_mode": {
    "name": "ipython",
    "version": 3
   },
   "file_extension": ".py",
   "mimetype": "text/x-python",
   "name": "python",
   "nbconvert_exporter": "python",
   "pygments_lexer": "ipython3",
   "version": "3.5.5"
  },
  "varInspector": {
   "cols": {
    "lenName": 16,
    "lenType": 16,
    "lenVar": 40
   },
   "kernels_config": {
    "python": {
     "delete_cmd_postfix": "",
     "delete_cmd_prefix": "del ",
     "library": "var_list.py",
     "varRefreshCmd": "print(var_dic_list())"
    },
    "r": {
     "delete_cmd_postfix": ") ",
     "delete_cmd_prefix": "rm(",
     "library": "var_list.r",
     "varRefreshCmd": "cat(var_dic_list()) "
    }
   },
   "position": {
    "height": "512px",
    "left": "1389.98px",
    "right": "20px",
    "top": "124.983px",
    "width": "350px"
   },
   "types_to_exclude": [
    "module",
    "function",
    "builtin_function_or_method",
    "instance",
    "_Feature"
   ],
   "window_display": false
  }
 },
 "nbformat": 4,
 "nbformat_minor": 2
}
