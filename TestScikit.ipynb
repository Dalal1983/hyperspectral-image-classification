{
 "cells": [
  {
   "cell_type": "code",
   "execution_count": 17,
   "metadata": {
    "ExecuteTime": {
     "end_time": "2018-12-15T16:15:37.819928Z",
     "start_time": "2018-12-15T16:15:37.815348Z"
    }
   },
   "outputs": [],
   "source": [
    "import utils as u\n",
    "import preprocessing as pp\n",
    "import train as tt\n",
    "import visualization as viz\n",
    "\n",
    "import matplotlib.pyplot as plt\n",
    "from matplotlib import patches\n",
    "import numpy as np\n",
    "\n",
    "from keras.utils import np_utils\n",
    "\n",
    "import spectral\n",
    "from spectral import spy_colors\n",
    "\n",
    "#tests\n",
    "from sklearn.cluster import KMeans\n",
    "from sklearn.neighbors import KNeighborsClassifier\n",
    "from sklearn.metrics import classification_report"
   ]
  },
  {
   "cell_type": "code",
   "execution_count": 72,
   "metadata": {
    "ExecuteTime": {
     "end_time": "2018-12-15T16:31:19.112743Z",
     "start_time": "2018-12-15T16:31:19.106683Z"
    }
   },
   "outputs": [],
   "source": [
    "numPCAcomponents = 50\n",
    "PATCH_SIZE = 5\n",
    "C1 = 3*numPCAcomponents\n",
    "\n",
    "batch_size = 128\n",
    "epochs = 10\n",
    "\n",
    "classes_authorized = [2,3,5,6,10,0,11,12,14,15]\n",
    "\n",
    "target_names = ['Maïs- Pas de Technique de Conservation des sols',\n",
    "                    'Maïs- Minimum Tillage',\n",
    "                    'Herbe-Pâturage',\n",
    "                    'Herbe-Arbre',\n",
    "                    'Soja-Pas de Technique de Conservation des sols', 'Soja-Minimum Tillage','Soja', 'Bois',\n",
    "                    'Bâtiment-Herbe-Arbre-drives',]\n",
    "\n",
    "label_dictionary = {\n",
    "    0: 'Rien',\n",
    "    1: 'Maïs- Pas de Technique de Conservation des sols', \n",
    "    2: 'Maïs- Minimum Tillage',\n",
    "    3: 'Herbe-Pâturage', \n",
    "    4: 'Herbe-Arbre', \n",
    "    5: 'Soja-Pas de Technique de Conservation des sols', \n",
    "    6: 'Soja-Minimum Tillage',\n",
    "    7: 'Soja', \n",
    "    8: 'Bois', \n",
    "    9: 'Bâtiment-Herbe-Arbre-drives',\n",
    "}"
   ]
  },
  {
   "cell_type": "code",
   "execution_count": 73,
   "metadata": {
    "ExecuteTime": {
     "end_time": "2018-12-15T16:31:19.666667Z",
     "start_time": "2018-12-15T16:31:19.581266Z"
    }
   },
   "outputs": [],
   "source": [
    "X, train_data, test_data = pp.loadData()"
   ]
  },
  {
   "cell_type": "code",
   "execution_count": 74,
   "metadata": {
    "ExecuteTime": {
     "end_time": "2018-12-15T16:31:22.236106Z",
     "start_time": "2018-12-15T16:31:21.270571Z"
    }
   },
   "outputs": [
    {
     "name": "stdout",
     "output_type": "stream",
     "text": [
      "Before Shuffle: \n",
      "0 => 15155 / 17753\n",
      "1 => 648 / 780\n",
      "2 => 751 / 79\n",
      "3 => 465 / 18\n",
      "4 => 492 / 238\n",
      "5 => 231 / 741\n",
      "6 => 1646 / 809\n",
      "7 => 403 / 190\n",
      "8 => 1145 / 120\n",
      "9 => 89 / 297\n",
      "\n",
      "After Shuffle: \n",
      "0 => 16441 / 16467\n",
      "1 => 700 / 728\n",
      "2 => 435 / 395\n",
      "3 => 249 / 234\n",
      "4 => 382 / 348\n",
      "5 => 481 / 491\n",
      "6 => 1205 / 1250\n",
      "7 => 317 / 276\n",
      "8 => 635 / 630\n",
      "9 => 180 / 206\n",
      "\n"
     ]
    }
   ],
   "source": [
    "train_data = pp.deleteUselessClasses(train_data, classes_authorized)\n",
    "test_data = pp.deleteUselessClasses(test_data, classes_authorized)\n",
    "\n",
    "def pretty_print_count(train_data, test_data):\n",
    "    unique_train = np.unique(train_data, return_counts=True)\n",
    "    unique_test = np.unique(test_data, return_counts=True)\n",
    "    for i in range(0, unique_train[0].shape[0]):\n",
    "        print(unique_train[0][i], \"=>\", unique_train[1][i], \"/\", unique_test[1][i])\n",
    "    print()\n",
    "        \n",
    "print(\"Before Shuffle: \")\n",
    "pretty_print_count(train_data, test_data)\n",
    "train_data, test_data = pp.shuffleTrainTest(train_data, test_data)\n",
    "print(\"After Shuffle: \")\n",
    "pretty_print_count(train_data, test_data)"
   ]
  },
  {
   "cell_type": "code",
   "execution_count": 75,
   "metadata": {
    "ExecuteTime": {
     "end_time": "2018-12-15T16:31:28.218104Z",
     "start_time": "2018-12-15T16:31:27.812172Z"
    }
   },
   "outputs": [],
   "source": [
    "X, pca = pp.dimensionalityReduction(X, numComponents=numPCAcomponents, standardize=False)"
   ]
  },
  {
   "cell_type": "code",
   "execution_count": 276,
   "metadata": {
    "ExecuteTime": {
     "end_time": "2018-12-15T17:17:49.759836Z",
     "start_time": "2018-12-15T17:17:49.749022Z"
    }
   },
   "outputs": [],
   "source": [
    "def patch_1dim_split(X, train_data, test_data, PATCH_SIZE):\n",
    "    padding = int((PATCH_SIZE - 1) / 2) #Patch de 3*3 = padding de 1 (centre + 1 de chaque coté)\n",
    "    #X_padding = np.zeros(X)\n",
    "    X_padding = np.pad(X, [(padding, padding), (padding, padding), (0, 0)], mode='constant')\n",
    "    \n",
    "    X_patch = np.zeros((X.shape[0] * X.shape[1], PATCH_SIZE, PATCH_SIZE, X.shape[2]))\n",
    "    y_train_patch = np.zeros((train_data.shape[0] * train_data.shape[1]))\n",
    "    y_test_patch = np.zeros((test_data.shape[0] * test_data.shape[1]))\n",
    "    \n",
    "    index = 0\n",
    "    for i in range(0, X_padding.shape[0] - 2 * padding):\n",
    "        for j in range(0, X_padding.shape[1] - 2 * padding):\n",
    "            # This condition is for less frequent updates. \n",
    "            if i % 8 == 0 or index == (X_padding.shape[0] - 2 * padding) * (X_padding.shape[1] - 2 * padding) - 1:\n",
    "                u.printProgressBar(index + 1, (X_padding.shape[0] - 2 * padding) * (X_padding.shape[1] - 2 * padding))\n",
    "            patch = X_padding[i:i + 2 * padding + 1, j:j + 2 * padding + 1]\n",
    "            X_patch[index, :, :, :] = patch\n",
    "            y_train_patch[index] = train_data[i, j]\n",
    "            y_test_patch[index] = test_data[i, j]\n",
    "            index += 1\n",
    "    \n",
    "    print(\"\\nCreating train/test arrays and removing zero labels...\")\n",
    "    u.printProgressBar(1, 7)\n",
    "    X_train_patch = np.copy(X_patch)\n",
    "    u.printProgressBar(2, 7)\n",
    "    X_test_patch = np.copy(X_patch)\n",
    "    \n",
    "    u.printProgressBar(3, 7)\n",
    "    X_train_patch = X_train_patch[y_train_patch > 0,:,:,:]\n",
    "    u.printProgressBar(4, 7)\n",
    "    X_test_patch = X_test_patch[y_test_patch > 0,:,:,:]\n",
    "    u.printProgressBar(5, 7)\n",
    "    y_train_patch = y_train_patch[y_train_patch > 0] - 1\n",
    "    u.printProgressBar(6, 70)\n",
    "    y_test_patch = y_test_patch[y_test_patch > 0] - 1\n",
    "    u.printProgressBar(7, 7)\n",
    "    print(\"Done.\")\n",
    "    \n",
    "    return X_train_patch, X_test_patch, y_train_patch, y_test_patch\n",
    "\n",
    "def split(X, train_data, test_data):\n",
    "    X_temp = np.reshape(X, (X.shape[0] * X.shape[1], X.shape[2]))\n",
    "    y_train_temp = np.reshape(train_data, (train_data.shape[0]* train_data.shape[1]));\n",
    "    y_test_temp = np.reshape(test_data, (test_data.shape[0] * test_data.shape[1]));\n",
    "    \n",
    "    X_train = X_temp[y_train_temp > 0,:];\n",
    "    y_train_temp = y_train_temp[y_train_temp > 0];\n",
    "    X_test = X_temp[y_test_temp > 0];\n",
    "    y_test_temp = y_test_temp[y_test_temp > 0];\n",
    "    \n",
    "    return X_train, X_test, y_train_temp, y_test_temp"
   ]
  },
  {
   "cell_type": "code",
   "execution_count": 277,
   "metadata": {
    "ExecuteTime": {
     "end_time": "2018-12-15T17:17:49.985614Z",
     "start_time": "2018-12-15T17:17:49.978729Z"
    }
   },
   "outputs": [],
   "source": [
    "X_train, X_test, y_train, y_test = split(X, train_data, test_data)\n"
   ]
  },
  {
   "cell_type": "code",
   "execution_count": 278,
   "metadata": {
    "ExecuteTime": {
     "end_time": "2018-12-15T17:17:50.214672Z",
     "start_time": "2018-12-15T17:17:50.199537Z"
    }
   },
   "outputs": [
    {
     "data": {
      "text/plain": [
       "KNeighborsClassifier(algorithm='auto', leaf_size=30, metric='minkowski',\n",
       "           metric_params=None, n_jobs=1, n_neighbors=5, p=2,\n",
       "           weights='uniform')"
      ]
     },
     "execution_count": 278,
     "metadata": {},
     "output_type": "execute_result"
    }
   ],
   "source": [
    "neigh = KNeighborsClassifier(n_neighbors=5)\n",
    "neigh.fit(X_train, y_train)"
   ]
  },
  {
   "cell_type": "code",
   "execution_count": 279,
   "metadata": {
    "ExecuteTime": {
     "end_time": "2018-12-15T17:17:52.316460Z",
     "start_time": "2018-12-15T17:17:50.439917Z"
    }
   },
   "outputs": [],
   "source": [
    "y_pred = neigh.predict(X_test)"
   ]
  },
  {
   "cell_type": "code",
   "execution_count": 280,
   "metadata": {
    "ExecuteTime": {
     "end_time": "2018-12-15T17:17:52.356866Z",
     "start_time": "2018-12-15T17:17:52.348515Z"
    }
   },
   "outputs": [
    {
     "name": "stdout",
     "output_type": "stream",
     "text": [
      "                                                 precision    recall  f1-score   support\n",
      "\n",
      "Maïs- Pas de Technique de Conservation des sols       0.56      0.60      0.58       728\n",
      "                          Maïs- Minimum Tillage       0.55      0.47      0.51       395\n",
      "                                 Herbe-Pâturage       0.86      0.74      0.79       234\n",
      "                                    Herbe-Arbre       0.80      0.96      0.87       348\n",
      " Soja-Pas de Technique de Conservation des sols       0.55      0.55      0.55       491\n",
      "                           Soja-Minimum Tillage       0.65      0.74      0.69      1250\n",
      "                                           Soja       0.64      0.32      0.43       276\n",
      "                                           Bois       0.89      0.93      0.91       630\n",
      "                    Bâtiment-Herbe-Arbre-drives       0.77      0.34      0.48       206\n",
      "\n",
      "                                    avg / total       0.68      0.67      0.67      4558\n",
      "\n"
     ]
    }
   ],
   "source": [
    "print(classification_report(y_test, y_pred, target_names=target_names))"
   ]
  },
  {
   "cell_type": "code",
   "execution_count": 281,
   "metadata": {
    "ExecuteTime": {
     "end_time": "2018-12-15T17:17:52.397378Z",
     "start_time": "2018-12-15T17:17:52.391280Z"
    }
   },
   "outputs": [],
   "source": [
    "from sklearn.naive_bayes import MultinomialNB\n",
    "from sklearn.svm import SVC\n",
    "from sklearn.ensemble import RandomForestClassifier, AdaBoostClassifier"
   ]
  },
  {
   "cell_type": "code",
   "execution_count": 282,
   "metadata": {
    "ExecuteTime": {
     "end_time": "2018-12-15T17:17:52.448342Z",
     "start_time": "2018-12-15T17:17:52.433400Z"
    }
   },
   "outputs": [
    {
     "data": {
      "text/plain": [
       "MultinomialNB(alpha=0.001, class_prior=None, fit_prior=True)"
      ]
     },
     "execution_count": 282,
     "metadata": {},
     "output_type": "execute_result"
    }
   ],
   "source": [
    "X_train2 = (X_train - np.min(X_train))\n",
    "X_test2 = (X_test - np.min(X_test))\n",
    "multi = MultinomialNB(alpha=0.001)\n",
    "multi.fit(X_train2, y_train)"
   ]
  },
  {
   "cell_type": "code",
   "execution_count": 283,
   "metadata": {
    "ExecuteTime": {
     "end_time": "2018-12-15T17:17:52.500946Z",
     "start_time": "2018-12-15T17:17:52.489020Z"
    }
   },
   "outputs": [],
   "source": [
    "y_pred = multi.predict(X_test2)"
   ]
  },
  {
   "cell_type": "code",
   "execution_count": 284,
   "metadata": {
    "ExecuteTime": {
     "end_time": "2018-12-15T17:17:52.549343Z",
     "start_time": "2018-12-15T17:17:52.538948Z"
    }
   },
   "outputs": [
    {
     "name": "stdout",
     "output_type": "stream",
     "text": [
      "                                                 precision    recall  f1-score   support\n",
      "\n",
      "Maïs- Pas de Technique de Conservation des sols       0.64      0.17      0.27       728\n",
      "                          Maïs- Minimum Tillage       0.00      0.00      0.00       395\n",
      "                                 Herbe-Pâturage       0.00      0.00      0.00       234\n",
      "                                    Herbe-Arbre       1.00      0.01      0.02       348\n",
      " Soja-Pas de Technique de Conservation des sols       0.00      0.00      0.00       491\n",
      "                           Soja-Minimum Tillage       0.30      0.99      0.46      1250\n",
      "                                           Soja       0.00      0.00      0.00       276\n",
      "                                           Bois       0.91      0.29      0.44       630\n",
      "                    Bâtiment-Herbe-Arbre-drives       0.00      0.00      0.00       206\n",
      "\n",
      "                                    avg / total       0.39      0.34      0.23      4558\n",
      "\n"
     ]
    },
    {
     "name": "stderr",
     "output_type": "stream",
     "text": [
      "/home/meryll/miniconda3/envs/eca/lib/python3.5/site-packages/sklearn/metrics/classification.py:1135: UndefinedMetricWarning: Precision and F-score are ill-defined and being set to 0.0 in labels with no predicted samples.\n",
      "  'precision', 'predicted', average, warn_for)\n"
     ]
    }
   ],
   "source": [
    "set(y_test) - set(y_pred)\n",
    "print(classification_report(y_test, y_pred, target_names=target_names))"
   ]
  },
  {
   "cell_type": "code",
   "execution_count": 285,
   "metadata": {
    "ExecuteTime": {
     "end_time": "2018-12-15T17:17:52.589018Z",
     "start_time": "2018-12-15T17:17:52.584316Z"
    }
   },
   "outputs": [],
   "source": [
    "from sklearn.tree import DecisionTreeClassifier"
   ]
  },
  {
   "cell_type": "code",
   "execution_count": 286,
   "metadata": {
    "ExecuteTime": {
     "end_time": "2018-12-15T17:17:52.889940Z",
     "start_time": "2018-12-15T17:17:52.886022Z"
    }
   },
   "outputs": [],
   "source": [
    "dtree = DecisionTreeClassifier(max_depth=8, criterion=\"entropy\", max_leaf_nodes=50)"
   ]
  },
  {
   "cell_type": "code",
   "execution_count": 287,
   "metadata": {
    "ExecuteTime": {
     "end_time": "2018-12-15T17:17:54.018048Z",
     "start_time": "2018-12-15T17:17:53.389685Z"
    }
   },
   "outputs": [
    {
     "data": {
      "text/plain": [
       "DecisionTreeClassifier(class_weight=None, criterion='entropy', max_depth=8,\n",
       "            max_features=None, max_leaf_nodes=50,\n",
       "            min_impurity_decrease=0.0, min_impurity_split=None,\n",
       "            min_samples_leaf=1, min_samples_split=2,\n",
       "            min_weight_fraction_leaf=0.0, presort=False, random_state=None,\n",
       "            splitter='best')"
      ]
     },
     "execution_count": 287,
     "metadata": {},
     "output_type": "execute_result"
    }
   ],
   "source": [
    "dtree.fit(X_train, y_train)"
   ]
  },
  {
   "cell_type": "code",
   "execution_count": 288,
   "metadata": {
    "ExecuteTime": {
     "end_time": "2018-12-15T17:17:54.060575Z",
     "start_time": "2018-12-15T17:17:54.056232Z"
    }
   },
   "outputs": [],
   "source": [
    "y_pred = dtree.predict(X_test)"
   ]
  },
  {
   "cell_type": "code",
   "execution_count": 289,
   "metadata": {
    "ExecuteTime": {
     "end_time": "2018-12-15T17:17:54.105529Z",
     "start_time": "2018-12-15T17:17:54.096572Z"
    }
   },
   "outputs": [
    {
     "name": "stdout",
     "output_type": "stream",
     "text": [
      "                                                 precision    recall  f1-score   support\n",
      "\n",
      "Maïs- Pas de Technique de Conservation des sols       0.61      0.54      0.57       728\n",
      "                          Maïs- Minimum Tillage       0.54      0.47      0.50       395\n",
      "                                 Herbe-Pâturage       0.75      0.77      0.76       234\n",
      "                                    Herbe-Arbre       0.85      0.90      0.88       348\n",
      " Soja-Pas de Technique de Conservation des sols       0.58      0.62      0.60       491\n",
      "                           Soja-Minimum Tillage       0.64      0.75      0.69      1250\n",
      "                                           Soja       0.68      0.34      0.45       276\n",
      "                                           Bois       0.89      0.91      0.90       630\n",
      "                    Bâtiment-Herbe-Arbre-drives       0.54      0.47      0.50       206\n",
      "\n",
      "                                    avg / total       0.67      0.68      0.67      4558\n",
      "\n"
     ]
    }
   ],
   "source": [
    "print(classification_report(y_test, y_pred, target_names=target_names))"
   ]
  },
  {
   "cell_type": "code",
   "execution_count": 290,
   "metadata": {
    "ExecuteTime": {
     "end_time": "2018-12-15T17:17:54.491486Z",
     "start_time": "2018-12-15T17:17:54.487787Z"
    }
   },
   "outputs": [],
   "source": [
    "svc = SVC(C=9, decision_function_shape=\"ovo\")"
   ]
  },
  {
   "cell_type": "code",
   "execution_count": 291,
   "metadata": {
    "ExecuteTime": {
     "end_time": "2018-12-15T17:17:56.467680Z",
     "start_time": "2018-12-15T17:17:55.084108Z"
    }
   },
   "outputs": [
    {
     "data": {
      "text/plain": [
       "SVC(C=9, cache_size=200, class_weight=None, coef0=0.0,\n",
       "  decision_function_shape='ovo', degree=3, gamma='auto', kernel='rbf',\n",
       "  max_iter=-1, probability=False, random_state=None, shrinking=True,\n",
       "  tol=0.001, verbose=False)"
      ]
     },
     "execution_count": 291,
     "metadata": {},
     "output_type": "execute_result"
    }
   ],
   "source": [
    "svc.fit(X_train, y_train)"
   ]
  },
  {
   "cell_type": "code",
   "execution_count": 292,
   "metadata": {
    "ExecuteTime": {
     "end_time": "2018-12-15T17:17:57.840614Z",
     "start_time": "2018-12-15T17:17:56.505369Z"
    }
   },
   "outputs": [],
   "source": [
    "y_pred = svc.predict(X_test)"
   ]
  },
  {
   "cell_type": "code",
   "execution_count": 293,
   "metadata": {
    "ExecuteTime": {
     "end_time": "2018-12-15T17:17:57.879578Z",
     "start_time": "2018-12-15T17:17:57.871492Z"
    }
   },
   "outputs": [
    {
     "name": "stdout",
     "output_type": "stream",
     "text": [
      "                                                 precision    recall  f1-score   support\n",
      "\n",
      "Maïs- Pas de Technique de Conservation des sols       0.77      0.77      0.77       728\n",
      "                          Maïs- Minimum Tillage       0.80      0.66      0.72       395\n",
      "                                 Herbe-Pâturage       0.92      0.88      0.90       234\n",
      "                                    Herbe-Arbre       0.93      0.97      0.95       348\n",
      " Soja-Pas de Technique de Conservation des sols       0.80      0.77      0.78       491\n",
      "                           Soja-Minimum Tillage       0.79      0.85      0.82      1250\n",
      "                                           Soja       0.71      0.76      0.74       276\n",
      "                                           Bois       0.93      0.97      0.95       630\n",
      "                    Bâtiment-Herbe-Arbre-drives       0.81      0.62      0.70       206\n",
      "\n",
      "                                    avg / total       0.82      0.82      0.82      4558\n",
      "\n"
     ]
    }
   ],
   "source": [
    "print(classification_report(y_test, y_pred, target_names=target_names))"
   ]
  },
  {
   "cell_type": "code",
   "execution_count": null,
   "metadata": {},
   "outputs": [],
   "source": []
  },
  {
   "cell_type": "code",
   "execution_count": null,
   "metadata": {},
   "outputs": [],
   "source": []
  }
 ],
 "metadata": {
  "kernelspec": {
   "display_name": "Python 3",
   "language": "python",
   "name": "python3"
  },
  "language_info": {
   "codemirror_mode": {
    "name": "ipython",
    "version": 3
   },
   "file_extension": ".py",
   "mimetype": "text/x-python",
   "name": "python",
   "nbconvert_exporter": "python",
   "pygments_lexer": "ipython3",
   "version": "3.5.5"
  },
  "varInspector": {
   "cols": {
    "lenName": 16,
    "lenType": 16,
    "lenVar": 40
   },
   "kernels_config": {
    "python": {
     "delete_cmd_postfix": "",
     "delete_cmd_prefix": "del ",
     "library": "var_list.py",
     "varRefreshCmd": "print(var_dic_list())"
    },
    "r": {
     "delete_cmd_postfix": ") ",
     "delete_cmd_prefix": "rm(",
     "library": "var_list.r",
     "varRefreshCmd": "cat(var_dic_list()) "
    }
   },
   "types_to_exclude": [
    "module",
    "function",
    "builtin_function_or_method",
    "instance",
    "_Feature"
   ],
   "window_display": false
  }
 },
 "nbformat": 4,
 "nbformat_minor": 2
}
