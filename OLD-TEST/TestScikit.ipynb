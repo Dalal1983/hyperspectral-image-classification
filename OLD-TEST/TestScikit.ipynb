{
 "cells": [
  {
   "cell_type": "code",
   "execution_count": 39,
   "metadata": {
    "ExecuteTime": {
     "end_time": "2018-12-17T14:33:37.614031Z",
     "start_time": "2018-12-17T14:33:37.609726Z"
    }
   },
   "outputs": [],
   "source": [
    "import utils as u\n",
    "import preprocessing as pp\n",
    "import train as tt\n",
    "import visualization as viz\n",
    "\n",
    "import matplotlib.pyplot as plt\n",
    "from matplotlib import patches\n",
    "import numpy as np\n",
    "\n",
    "from keras.utils import np_utils\n",
    "\n",
    "import spectral\n",
    "from spectral import spy_colors\n",
    "\n",
    "#tests\n",
    "from sklearn.cluster import KMeans\n",
    "from sklearn.neighbors import KNeighborsClassifier\n",
    "from sklearn.metrics import classification_report, f1_score"
   ]
  },
  {
   "cell_type": "code",
   "execution_count": 49,
   "metadata": {
    "ExecuteTime": {
     "end_time": "2018-12-17T15:42:00.707878Z",
     "start_time": "2018-12-17T15:42:00.701086Z"
    },
    "init_cell": true
   },
   "outputs": [],
   "source": [
    "numPCAcomponents = 100\n",
    "PATCH_SIZE = 5\n",
    "C1 = 3*numPCAcomponents\n",
    "\n",
    "batch_size = 128\n",
    "epochs = 10\n",
    "\n",
    "classes_authorized = [2,3,5,6,10,0,11,12,14,15]\n",
    "\n",
    "target_names = ['Maïs- Pas de Technique de Conservation des sols',\n",
    "                    'Maïs- Minimum Tillage',\n",
    "                    'Herbe-Pâturage',\n",
    "                    'Herbe-Arbre',\n",
    "                    'Soja-Pas de Technique de Conservation des sols', 'Soja-Minimum Tillage','Soja', 'Bois',\n",
    "                    'Bâtiment-Herbe-Arbre-drives',]\n",
    "\n",
    "label_dictionary = {\n",
    "    0: 'Rien',\n",
    "    1: 'Maïs- Pas de Technique de Conservation des sols', \n",
    "    2: 'Maïs- Minimum Tillage',\n",
    "    3: 'Herbe-Pâturage', \n",
    "    4: 'Herbe-Arbre', \n",
    "    5: 'Soja-Pas de Technique de Conservation des sols', \n",
    "    6: 'Soja-Minimum Tillage',\n",
    "    7: 'Soja', \n",
    "    8: 'Bois', \n",
    "    9: 'Bâtiment-Herbe-Arbre-drives',\n",
    "}"
   ]
  },
  {
   "cell_type": "code",
   "execution_count": 50,
   "metadata": {
    "ExecuteTime": {
     "end_time": "2018-12-17T15:42:00.831779Z",
     "start_time": "2018-12-17T15:42:00.710805Z"
    },
    "init_cell": true
   },
   "outputs": [],
   "source": [
    "X, train_data, test_data = pp.loadData()"
   ]
  },
  {
   "cell_type": "code",
   "execution_count": 51,
   "metadata": {
    "ExecuteTime": {
     "end_time": "2018-12-17T15:42:01.899349Z",
     "start_time": "2018-12-17T15:42:00.834098Z"
    },
    "init_cell": true
   },
   "outputs": [
    {
     "name": "stdout",
     "output_type": "stream",
     "text": [
      "Before Shuffle: \n",
      "0 => 15155 / 17753\n",
      "1 => 648 / 780\n",
      "2 => 751 / 79\n",
      "3 => 465 / 18\n",
      "4 => 492 / 238\n",
      "5 => 231 / 741\n",
      "6 => 1646 / 809\n",
      "7 => 403 / 190\n",
      "8 => 1145 / 120\n",
      "9 => 89 / 297\n",
      "\n",
      "After Shuffle: \n",
      "0 => 16441 / 16467\n",
      "1 => 700 / 728\n",
      "2 => 435 / 395\n",
      "3 => 249 / 234\n",
      "4 => 382 / 348\n",
      "5 => 481 / 491\n",
      "6 => 1205 / 1250\n",
      "7 => 317 / 276\n",
      "8 => 635 / 630\n",
      "9 => 180 / 206\n",
      "\n"
     ]
    }
   ],
   "source": [
    "train_data = pp.deleteUselessClasses(train_data, classes_authorized)\n",
    "test_data = pp.deleteUselessClasses(test_data, classes_authorized)\n",
    "\n",
    "def pretty_print_count(train_data, test_data):\n",
    "    unique_train = np.unique(train_data, return_counts=True)\n",
    "    unique_test = np.unique(test_data, return_counts=True)\n",
    "    for i in range(0, unique_train[0].shape[0]):\n",
    "        print(unique_train[0][i], \"=>\", unique_train[1][i], \"/\", unique_test[1][i])\n",
    "    print()\n",
    "        \n",
    "print(\"Before Shuffle: \")\n",
    "pretty_print_count(train_data, test_data)\n",
    "train_data, test_data = pp.shuffleTrainTest(train_data, test_data)\n",
    "print(\"After Shuffle: \")\n",
    "pretty_print_count(train_data, test_data)"
   ]
  },
  {
   "cell_type": "code",
   "execution_count": 52,
   "metadata": {
    "ExecuteTime": {
     "end_time": "2018-12-17T15:42:02.593726Z",
     "start_time": "2018-12-17T15:42:01.902700Z"
    },
    "init_cell": true
   },
   "outputs": [],
   "source": [
    "X, pca = pp.dimensionalityReduction(X, numComponents=numPCAcomponents, standardize=False)"
   ]
  },
  {
   "cell_type": "code",
   "execution_count": 53,
   "metadata": {
    "ExecuteTime": {
     "end_time": "2018-12-17T15:42:02.603710Z",
     "start_time": "2018-12-17T15:42:02.595904Z"
    },
    "init_cell": true
   },
   "outputs": [],
   "source": [
    "X_train, X_test, y_train, y_test = pp.split(X, train_data, test_data)"
   ]
  },
  {
   "cell_type": "code",
   "execution_count": 54,
   "metadata": {
    "ExecuteTime": {
     "end_time": "2018-12-17T15:42:02.635255Z",
     "start_time": "2018-12-17T15:42:02.605925Z"
    },
    "init_cell": true
   },
   "outputs": [
    {
     "data": {
      "text/plain": [
       "KNeighborsClassifier(algorithm='auto', leaf_size=30, metric='minkowski',\n",
       "           metric_params=None, n_jobs=1, n_neighbors=10, p=2,\n",
       "           weights='uniform')"
      ]
     },
     "execution_count": 54,
     "metadata": {},
     "output_type": "execute_result"
    }
   ],
   "source": [
    "neigh = KNeighborsClassifier(n_neighbors=10)\n",
    "neigh.fit(X_train, y_train)"
   ]
  },
  {
   "cell_type": "code",
   "execution_count": null,
   "metadata": {
    "ExecuteTime": {
     "start_time": "2018-12-17T15:42:00.710Z"
    },
    "init_cell": true
   },
   "outputs": [],
   "source": [
    "y_pred = neigh.predict(X_test)"
   ]
  },
  {
   "cell_type": "code",
   "execution_count": null,
   "metadata": {
    "ExecuteTime": {
     "start_time": "2018-12-17T15:42:00.712Z"
    },
    "init_cell": true
   },
   "outputs": [],
   "source": [
    "print(classification_report(y_test, y_pred, target_names=target_names))"
   ]
  },
  {
   "cell_type": "code",
   "execution_count": 34,
   "metadata": {
    "ExecuteTime": {
     "end_time": "2018-12-17T14:32:07.186128Z",
     "start_time": "2018-12-17T14:32:07.163944Z"
    }
   },
   "outputs": [],
   "source": [
    "from sklearn.naive_bayes import MultinomialNB\n",
    "from sklearn.svm import SVC\n",
    "from sklearn.ensemble import RandomForestClassifier, AdaBoostClassifier"
   ]
  },
  {
   "cell_type": "code",
   "execution_count": null,
   "metadata": {
    "ExecuteTime": {
     "end_time": "2018-12-17T13:55:19.424159Z",
     "start_time": "2018-12-17T13:55:16.800Z"
    }
   },
   "outputs": [],
   "source": [
    "X_train2 = (X_train - np.min(X_train))\n",
    "X_test2 = (X_test - np.min(X_test))\n",
    "multi = MultinomialNB(alpha=0.001)\n",
    "multi.fit(X_train2, y_train)"
   ]
  },
  {
   "cell_type": "code",
   "execution_count": null,
   "metadata": {
    "ExecuteTime": {
     "end_time": "2018-12-17T13:55:19.427952Z",
     "start_time": "2018-12-17T13:55:16.802Z"
    }
   },
   "outputs": [],
   "source": [
    "y_pred = multi.predict(X_test2)"
   ]
  },
  {
   "cell_type": "code",
   "execution_count": null,
   "metadata": {
    "ExecuteTime": {
     "end_time": "2018-12-17T13:55:19.429919Z",
     "start_time": "2018-12-17T13:55:16.805Z"
    }
   },
   "outputs": [],
   "source": [
    "set(y_test) - set(y_pred)\n",
    "print(classification_report(y_test, y_pred, target_names=target_names))"
   ]
  },
  {
   "cell_type": "code",
   "execution_count": 16,
   "metadata": {
    "ExecuteTime": {
     "end_time": "2018-12-17T14:30:41.010853Z",
     "start_time": "2018-12-17T14:30:41.006601Z"
    }
   },
   "outputs": [],
   "source": [
    "from sklearn.tree import DecisionTreeClassifier"
   ]
  },
  {
   "cell_type": "code",
   "execution_count": null,
   "metadata": {
    "ExecuteTime": {
     "start_time": "2018-12-17T15:42:00.714Z"
    },
    "init_cell": true
   },
   "outputs": [],
   "source": [
    "dtree = DecisionTreeClassifier(max_depth=10, criterion=\"entropy\", max_leaf_nodes=50)"
   ]
  },
  {
   "cell_type": "code",
   "execution_count": null,
   "metadata": {
    "ExecuteTime": {
     "start_time": "2018-12-17T15:42:00.716Z"
    },
    "init_cell": true
   },
   "outputs": [],
   "source": [
    "dtree.fit(X_train, y_train)"
   ]
  },
  {
   "cell_type": "code",
   "execution_count": null,
   "metadata": {
    "ExecuteTime": {
     "start_time": "2018-12-17T15:42:00.718Z"
    },
    "init_cell": true
   },
   "outputs": [],
   "source": [
    "y_pred = dtree.predict(X_test)"
   ]
  },
  {
   "cell_type": "code",
   "execution_count": null,
   "metadata": {
    "ExecuteTime": {
     "start_time": "2018-12-17T15:42:00.720Z"
    },
    "init_cell": true
   },
   "outputs": [],
   "source": [
    "print(classification_report(y_test, y_pred, target_names=target_names))"
   ]
  },
  {
   "cell_type": "code",
   "execution_count": null,
   "metadata": {
    "ExecuteTime": {
     "start_time": "2018-12-17T15:42:00.722Z"
    },
    "init_cell": true
   },
   "outputs": [],
   "source": [
    "svc = SVC(C=9, decision_function_shape=\"ovo\")"
   ]
  },
  {
   "cell_type": "code",
   "execution_count": null,
   "metadata": {
    "ExecuteTime": {
     "start_time": "2018-12-17T15:42:00.723Z"
    },
    "init_cell": true
   },
   "outputs": [],
   "source": [
    "svc.fit(X_train, y_train)"
   ]
  },
  {
   "cell_type": "code",
   "execution_count": null,
   "metadata": {
    "ExecuteTime": {
     "start_time": "2018-12-17T15:42:00.725Z"
    },
    "init_cell": true
   },
   "outputs": [],
   "source": [
    "y_pred = svc.predict(X_test)"
   ]
  },
  {
   "cell_type": "code",
   "execution_count": null,
   "metadata": {
    "ExecuteTime": {
     "start_time": "2018-12-17T15:42:00.726Z"
    },
    "init_cell": true
   },
   "outputs": [],
   "source": [
    "print(classification_report(y_test, y_pred, target_names=target_names))"
   ]
  },
  {
   "cell_type": "code",
   "execution_count": 48,
   "metadata": {
    "ExecuteTime": {
     "end_time": "2018-12-17T14:40:51.257356Z",
     "start_time": "2018-12-17T14:40:50.042923Z"
    }
   },
   "outputs": [
    {
     "name": "stdout",
     "output_type": "stream",
     "text": [
      "Model f1_score on train data/labels: 0.7402883872794087 \n",
      "\n",
      "Model score on test data/labels:\n",
      "                                                 precision    recall  f1-score   support\n",
      "\n",
      "Maïs- Pas de Technique de Conservation des sols       0.69      0.57      0.63       728\n",
      "                          Maïs- Minimum Tillage       0.62      0.40      0.49       395\n",
      "                                 Herbe-Pâturage       0.80      0.74      0.77       234\n",
      "                                    Herbe-Arbre       0.86      0.90      0.88       348\n",
      " Soja-Pas de Technique de Conservation des sols       0.62      0.67      0.64       491\n",
      "                           Soja-Minimum Tillage       0.66      0.77      0.71      1250\n",
      "                                           Soja       0.50      0.52      0.51       276\n",
      "                                           Bois       0.88      0.91      0.90       630\n",
      "                    Bâtiment-Herbe-Arbre-drives       0.54      0.48      0.51       206\n",
      "\n",
      "                                    avg / total       0.69      0.69      0.69      4558\n",
      "\n"
     ]
    }
   ],
   "source": [
    "\n",
    "    \n",
    "train_test_model(dtree, X_train, y_train, X_test, y_test)"
   ]
  },
  {
   "cell_type": "code",
   "execution_count": null,
   "metadata": {},
   "outputs": [],
   "source": []
  },
  {
   "cell_type": "code",
   "execution_count": null,
   "metadata": {},
   "outputs": [],
   "source": []
  }
 ],
 "metadata": {
  "celltoolbar": "Initialization Cell",
  "kernelspec": {
   "display_name": "Python 3",
   "language": "python",
   "name": "python3"
  },
  "language_info": {
   "codemirror_mode": {
    "name": "ipython",
    "version": 3
   },
   "file_extension": ".py",
   "mimetype": "text/x-python",
   "name": "python",
   "nbconvert_exporter": "python",
   "pygments_lexer": "ipython3",
   "version": "3.5.5"
  },
  "varInspector": {
   "cols": {
    "lenName": 16,
    "lenType": 16,
    "lenVar": 40
   },
   "kernels_config": {
    "python": {
     "delete_cmd_postfix": "",
     "delete_cmd_prefix": "del ",
     "library": "var_list.py",
     "varRefreshCmd": "print(var_dic_list())"
    },
    "r": {
     "delete_cmd_postfix": ") ",
     "delete_cmd_prefix": "rm(",
     "library": "var_list.r",
     "varRefreshCmd": "cat(var_dic_list()) "
    }
   },
   "types_to_exclude": [
    "module",
    "function",
    "builtin_function_or_method",
    "instance",
    "_Feature"
   ],
   "window_display": false
  }
 },
 "nbformat": 4,
 "nbformat_minor": 2
}
